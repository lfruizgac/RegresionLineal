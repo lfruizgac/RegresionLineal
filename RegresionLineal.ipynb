{
 "cells": [
  {
   "cell_type": "code",
   "execution_count": 1,
   "id": "0fc53d49-d0ea-42bc-a431-e62a6cf5dd0a",
   "metadata": {
    "scrolled": true
   },
   "outputs": [
    {
     "name": "stdout",
     "output_type": "stream",
     "text": [
      "Requirement already satisfied: numpy in c:\\users\\user\\anaconda3\\lib\\site-packages (1.26.4)\n",
      "Requirement already satisfied: pandas in c:\\users\\user\\anaconda3\\lib\\site-packages (2.2.2)\n",
      "Requirement already satisfied: scikit-learn in c:\\users\\user\\anaconda3\\lib\\site-packages (1.4.2)\n",
      "Requirement already satisfied: matplotlib in c:\\users\\user\\anaconda3\\lib\\site-packages (3.8.4)\n",
      "Requirement already satisfied: python-dateutil>=2.8.2 in c:\\users\\user\\anaconda3\\lib\\site-packages (from pandas) (2.9.0.post0)\n",
      "Requirement already satisfied: pytz>=2020.1 in c:\\users\\user\\anaconda3\\lib\\site-packages (from pandas) (2024.1)\n",
      "Requirement already satisfied: tzdata>=2022.7 in c:\\users\\user\\anaconda3\\lib\\site-packages (from pandas) (2023.3)\n",
      "Requirement already satisfied: scipy>=1.6.0 in c:\\users\\user\\anaconda3\\lib\\site-packages (from scikit-learn) (1.13.1)\n",
      "Requirement already satisfied: joblib>=1.2.0 in c:\\users\\user\\anaconda3\\lib\\site-packages (from scikit-learn) (1.4.2)\n",
      "Requirement already satisfied: threadpoolctl>=2.0.0 in c:\\users\\user\\anaconda3\\lib\\site-packages (from scikit-learn) (2.2.0)\n",
      "Requirement already satisfied: contourpy>=1.0.1 in c:\\users\\user\\anaconda3\\lib\\site-packages (from matplotlib) (1.2.0)\n",
      "Requirement already satisfied: cycler>=0.10 in c:\\users\\user\\anaconda3\\lib\\site-packages (from matplotlib) (0.11.0)\n",
      "Requirement already satisfied: fonttools>=4.22.0 in c:\\users\\user\\anaconda3\\lib\\site-packages (from matplotlib) (4.51.0)\n",
      "Requirement already satisfied: kiwisolver>=1.3.1 in c:\\users\\user\\anaconda3\\lib\\site-packages (from matplotlib) (1.4.4)\n",
      "Requirement already satisfied: packaging>=20.0 in c:\\users\\user\\anaconda3\\lib\\site-packages (from matplotlib) (23.2)\n",
      "Requirement already satisfied: pillow>=8 in c:\\users\\user\\anaconda3\\lib\\site-packages (from matplotlib) (10.3.0)\n",
      "Requirement already satisfied: pyparsing>=2.3.1 in c:\\users\\user\\anaconda3\\lib\\site-packages (from matplotlib) (3.0.9)\n",
      "Requirement already satisfied: six>=1.5 in c:\\users\\user\\anaconda3\\lib\\site-packages (from python-dateutil>=2.8.2->pandas) (1.16.0)\n",
      "Note: you may need to restart the kernel to use updated packages.\n"
     ]
    }
   ],
   "source": [
    "pip install numpy pandas scikit-learn matplotlib"
   ]
  },
  {
   "cell_type": "code",
   "execution_count": 149,
   "id": "dcdd6571-6b9a-4391-9b39-c578b7871501",
   "metadata": {},
   "outputs": [],
   "source": [
    "# importar bibliotecas\n",
    "import pandas as pd\n",
    "import numpy as np\n",
    "import seaborn as sns\n",
    "import matplotlib.pyplot as plt\n",
    "\n",
    "from sklearn.linear_model import LinearRegression\n",
    "from sklearn.metrics import mean_absolute_error, mean_squared_error, r2_score\n",
    "from sklearn.model_selection import train_test_split\n",
    "from sklearn.metrics import classification_report, confusion_matrix"
   ]
  },
  {
   "cell_type": "code",
   "execution_count": 151,
   "id": "df9d1f04-b204-4754-b7b7-42e623aed2e5",
   "metadata": {},
   "outputs": [],
   "source": [
    "# Cargar dataset\n",
    "data = pd.read_excel('Documents/vehiculo.xlsx')\n"
   ]
  },
  {
   "cell_type": "markdown",
   "id": "2dd2f257-9509-4005-8246-9a01e5d5390e",
   "metadata": {},
   "source": [
    "# 1.\tRealizar un análisis exploratorio de los datos"
   ]
  },
  {
   "cell_type": "code",
   "execution_count": 153,
   "id": "c5cc271e-291c-4a9f-b23b-2d8e59145f9d",
   "metadata": {},
   "outputs": [
    {
     "data": {
      "text/html": [
       "<div>\n",
       "<style scoped>\n",
       "    .dataframe tbody tr th:only-of-type {\n",
       "        vertical-align: middle;\n",
       "    }\n",
       "\n",
       "    .dataframe tbody tr th {\n",
       "        vertical-align: top;\n",
       "    }\n",
       "\n",
       "    .dataframe thead th {\n",
       "        text-align: right;\n",
       "    }\n",
       "</style>\n",
       "<table border=\"1\" class=\"dataframe\">\n",
       "  <thead>\n",
       "    <tr style=\"text-align: right;\">\n",
       "      <th></th>\n",
       "      <th>Model</th>\n",
       "      <th>Year</th>\n",
       "      <th>Selling_Price</th>\n",
       "      <th>Kms_Driven</th>\n",
       "      <th>Fuel_Type</th>\n",
       "      <th>Seller_Type</th>\n",
       "      <th>Transmission</th>\n",
       "    </tr>\n",
       "  </thead>\n",
       "  <tbody>\n",
       "    <tr>\n",
       "      <th>0</th>\n",
       "      <td>ritz</td>\n",
       "      <td>2014</td>\n",
       "      <td>3.35</td>\n",
       "      <td>27000</td>\n",
       "      <td>Petrol</td>\n",
       "      <td>Dealer</td>\n",
       "      <td>Manual</td>\n",
       "    </tr>\n",
       "    <tr>\n",
       "      <th>1</th>\n",
       "      <td>sx4</td>\n",
       "      <td>2013</td>\n",
       "      <td>4.75</td>\n",
       "      <td>43000</td>\n",
       "      <td>Diesel</td>\n",
       "      <td>Dealer</td>\n",
       "      <td>Manual</td>\n",
       "    </tr>\n",
       "    <tr>\n",
       "      <th>2</th>\n",
       "      <td>ciaz</td>\n",
       "      <td>2017</td>\n",
       "      <td>7.25</td>\n",
       "      <td>6900</td>\n",
       "      <td>Petrol</td>\n",
       "      <td>Dealer</td>\n",
       "      <td>Manual</td>\n",
       "    </tr>\n",
       "    <tr>\n",
       "      <th>3</th>\n",
       "      <td>wagon r</td>\n",
       "      <td>2011</td>\n",
       "      <td>2.85</td>\n",
       "      <td>5200</td>\n",
       "      <td>Petrol</td>\n",
       "      <td>Dealer</td>\n",
       "      <td>Manual</td>\n",
       "    </tr>\n",
       "    <tr>\n",
       "      <th>4</th>\n",
       "      <td>swift</td>\n",
       "      <td>2014</td>\n",
       "      <td>4.60</td>\n",
       "      <td>42450</td>\n",
       "      <td>Diesel</td>\n",
       "      <td>Dealer</td>\n",
       "      <td>Manual</td>\n",
       "    </tr>\n",
       "    <tr>\n",
       "      <th>5</th>\n",
       "      <td>vitara brezza</td>\n",
       "      <td>2018</td>\n",
       "      <td>9.25</td>\n",
       "      <td>2071</td>\n",
       "      <td>Diesel</td>\n",
       "      <td>Dealer</td>\n",
       "      <td>Manual</td>\n",
       "    </tr>\n",
       "    <tr>\n",
       "      <th>6</th>\n",
       "      <td>ciaz</td>\n",
       "      <td>2015</td>\n",
       "      <td>6.75</td>\n",
       "      <td>18796</td>\n",
       "      <td>Petrol</td>\n",
       "      <td>Dealer</td>\n",
       "      <td>Manual</td>\n",
       "    </tr>\n",
       "    <tr>\n",
       "      <th>7</th>\n",
       "      <td>s cross</td>\n",
       "      <td>2015</td>\n",
       "      <td>6.50</td>\n",
       "      <td>33429</td>\n",
       "      <td>Diesel</td>\n",
       "      <td>Dealer</td>\n",
       "      <td>Manual</td>\n",
       "    </tr>\n",
       "    <tr>\n",
       "      <th>8</th>\n",
       "      <td>ciaz</td>\n",
       "      <td>2016</td>\n",
       "      <td>8.75</td>\n",
       "      <td>20273</td>\n",
       "      <td>Diesel</td>\n",
       "      <td>Dealer</td>\n",
       "      <td>Manual</td>\n",
       "    </tr>\n",
       "    <tr>\n",
       "      <th>9</th>\n",
       "      <td>ciaz</td>\n",
       "      <td>2015</td>\n",
       "      <td>7.45</td>\n",
       "      <td>42367</td>\n",
       "      <td>Diesel</td>\n",
       "      <td>Dealer</td>\n",
       "      <td>Manual</td>\n",
       "    </tr>\n",
       "    <tr>\n",
       "      <th>10</th>\n",
       "      <td>alto 800</td>\n",
       "      <td>2017</td>\n",
       "      <td>2.85</td>\n",
       "      <td>2135</td>\n",
       "      <td>Petrol</td>\n",
       "      <td>Dealer</td>\n",
       "      <td>Manual</td>\n",
       "    </tr>\n",
       "    <tr>\n",
       "      <th>11</th>\n",
       "      <td>ciaz</td>\n",
       "      <td>2015</td>\n",
       "      <td>6.85</td>\n",
       "      <td>51000</td>\n",
       "      <td>Diesel</td>\n",
       "      <td>Dealer</td>\n",
       "      <td>Manual</td>\n",
       "    </tr>\n",
       "    <tr>\n",
       "      <th>12</th>\n",
       "      <td>ciaz</td>\n",
       "      <td>2015</td>\n",
       "      <td>7.50</td>\n",
       "      <td>15000</td>\n",
       "      <td>Petrol</td>\n",
       "      <td>Dealer</td>\n",
       "      <td>Automatic</td>\n",
       "    </tr>\n",
       "    <tr>\n",
       "      <th>13</th>\n",
       "      <td>ertiga</td>\n",
       "      <td>2015</td>\n",
       "      <td>6.10</td>\n",
       "      <td>26000</td>\n",
       "      <td>Petrol</td>\n",
       "      <td>Dealer</td>\n",
       "      <td>Manual</td>\n",
       "    </tr>\n",
       "    <tr>\n",
       "      <th>14</th>\n",
       "      <td>dzire</td>\n",
       "      <td>2009</td>\n",
       "      <td>2.25</td>\n",
       "      <td>77427</td>\n",
       "      <td>Petrol</td>\n",
       "      <td>Dealer</td>\n",
       "      <td>Manual</td>\n",
       "    </tr>\n",
       "    <tr>\n",
       "      <th>15</th>\n",
       "      <td>ertiga</td>\n",
       "      <td>2016</td>\n",
       "      <td>7.75</td>\n",
       "      <td>43000</td>\n",
       "      <td>Diesel</td>\n",
       "      <td>Dealer</td>\n",
       "      <td>Manual</td>\n",
       "    </tr>\n",
       "    <tr>\n",
       "      <th>16</th>\n",
       "      <td>ertiga</td>\n",
       "      <td>2015</td>\n",
       "      <td>7.25</td>\n",
       "      <td>41678</td>\n",
       "      <td>Diesel</td>\n",
       "      <td>Dealer</td>\n",
       "      <td>Manual</td>\n",
       "    </tr>\n",
       "    <tr>\n",
       "      <th>17</th>\n",
       "      <td>ertiga</td>\n",
       "      <td>2016</td>\n",
       "      <td>7.75</td>\n",
       "      <td>43000</td>\n",
       "      <td>Diesel</td>\n",
       "      <td>Dealer</td>\n",
       "      <td>Manual</td>\n",
       "    </tr>\n",
       "    <tr>\n",
       "      <th>18</th>\n",
       "      <td>wagon r</td>\n",
       "      <td>2015</td>\n",
       "      <td>3.25</td>\n",
       "      <td>35500</td>\n",
       "      <td>CNG</td>\n",
       "      <td>Dealer</td>\n",
       "      <td>Manual</td>\n",
       "    </tr>\n",
       "    <tr>\n",
       "      <th>19</th>\n",
       "      <td>sx4</td>\n",
       "      <td>2010</td>\n",
       "      <td>2.65</td>\n",
       "      <td>41442</td>\n",
       "      <td>Petrol</td>\n",
       "      <td>Dealer</td>\n",
       "      <td>Manual</td>\n",
       "    </tr>\n",
       "    <tr>\n",
       "      <th>20</th>\n",
       "      <td>alto k10</td>\n",
       "      <td>2016</td>\n",
       "      <td>2.85</td>\n",
       "      <td>25000</td>\n",
       "      <td>Petrol</td>\n",
       "      <td>Dealer</td>\n",
       "      <td>Manual</td>\n",
       "    </tr>\n",
       "    <tr>\n",
       "      <th>21</th>\n",
       "      <td>ignis</td>\n",
       "      <td>2017</td>\n",
       "      <td>4.90</td>\n",
       "      <td>2400</td>\n",
       "      <td>Petrol</td>\n",
       "      <td>Dealer</td>\n",
       "      <td>Manual</td>\n",
       "    </tr>\n",
       "    <tr>\n",
       "      <th>22</th>\n",
       "      <td>sx4</td>\n",
       "      <td>2011</td>\n",
       "      <td>4.40</td>\n",
       "      <td>50000</td>\n",
       "      <td>Petrol</td>\n",
       "      <td>Dealer</td>\n",
       "      <td>Automatic</td>\n",
       "    </tr>\n",
       "    <tr>\n",
       "      <th>23</th>\n",
       "      <td>alto k10</td>\n",
       "      <td>2014</td>\n",
       "      <td>2.50</td>\n",
       "      <td>45280</td>\n",
       "      <td>Petrol</td>\n",
       "      <td>Dealer</td>\n",
       "      <td>Manual</td>\n",
       "    </tr>\n",
       "    <tr>\n",
       "      <th>24</th>\n",
       "      <td>wagon r</td>\n",
       "      <td>2013</td>\n",
       "      <td>2.90</td>\n",
       "      <td>56879</td>\n",
       "      <td>Petrol</td>\n",
       "      <td>Dealer</td>\n",
       "      <td>Manual</td>\n",
       "    </tr>\n",
       "    <tr>\n",
       "      <th>25</th>\n",
       "      <td>swift</td>\n",
       "      <td>2011</td>\n",
       "      <td>3.00</td>\n",
       "      <td>20000</td>\n",
       "      <td>Petrol</td>\n",
       "      <td>Dealer</td>\n",
       "      <td>Manual</td>\n",
       "    </tr>\n",
       "    <tr>\n",
       "      <th>26</th>\n",
       "      <td>swift</td>\n",
       "      <td>2013</td>\n",
       "      <td>4.15</td>\n",
       "      <td>55138</td>\n",
       "      <td>Petrol</td>\n",
       "      <td>Dealer</td>\n",
       "      <td>Manual</td>\n",
       "    </tr>\n",
       "    <tr>\n",
       "      <th>27</th>\n",
       "      <td>swift</td>\n",
       "      <td>2017</td>\n",
       "      <td>6.00</td>\n",
       "      <td>16200</td>\n",
       "      <td>Petrol</td>\n",
       "      <td>Individual</td>\n",
       "      <td>Manual</td>\n",
       "    </tr>\n",
       "    <tr>\n",
       "      <th>28</th>\n",
       "      <td>alto k10</td>\n",
       "      <td>2010</td>\n",
       "      <td>1.95</td>\n",
       "      <td>44542</td>\n",
       "      <td>Petrol</td>\n",
       "      <td>Dealer</td>\n",
       "      <td>Manual</td>\n",
       "    </tr>\n",
       "    <tr>\n",
       "      <th>29</th>\n",
       "      <td>ciaz</td>\n",
       "      <td>2015</td>\n",
       "      <td>7.45</td>\n",
       "      <td>45000</td>\n",
       "      <td>Diesel</td>\n",
       "      <td>Dealer</td>\n",
       "      <td>Manual</td>\n",
       "    </tr>\n",
       "    <tr>\n",
       "      <th>30</th>\n",
       "      <td>ritz</td>\n",
       "      <td>2012</td>\n",
       "      <td>3.10</td>\n",
       "      <td>51439</td>\n",
       "      <td>Diesel</td>\n",
       "      <td>Dealer</td>\n",
       "      <td>Manual</td>\n",
       "    </tr>\n",
       "    <tr>\n",
       "      <th>31</th>\n",
       "      <td>ritz</td>\n",
       "      <td>2011</td>\n",
       "      <td>2.35</td>\n",
       "      <td>54200</td>\n",
       "      <td>Petrol</td>\n",
       "      <td>Dealer</td>\n",
       "      <td>Manual</td>\n",
       "    </tr>\n",
       "    <tr>\n",
       "      <th>32</th>\n",
       "      <td>swift</td>\n",
       "      <td>2014</td>\n",
       "      <td>4.95</td>\n",
       "      <td>39000</td>\n",
       "      <td>Diesel</td>\n",
       "      <td>Dealer</td>\n",
       "      <td>Manual</td>\n",
       "    </tr>\n",
       "    <tr>\n",
       "      <th>33</th>\n",
       "      <td>ertiga</td>\n",
       "      <td>2014</td>\n",
       "      <td>6.00</td>\n",
       "      <td>45000</td>\n",
       "      <td>Diesel</td>\n",
       "      <td>Dealer</td>\n",
       "      <td>Manual</td>\n",
       "    </tr>\n",
       "    <tr>\n",
       "      <th>34</th>\n",
       "      <td>dzire</td>\n",
       "      <td>2014</td>\n",
       "      <td>5.50</td>\n",
       "      <td>45000</td>\n",
       "      <td>Diesel</td>\n",
       "      <td>Dealer</td>\n",
       "      <td>Manual</td>\n",
       "    </tr>\n",
       "    <tr>\n",
       "      <th>35</th>\n",
       "      <td>sx4</td>\n",
       "      <td>2011</td>\n",
       "      <td>2.95</td>\n",
       "      <td>49998</td>\n",
       "      <td>CNG</td>\n",
       "      <td>Dealer</td>\n",
       "      <td>Manual</td>\n",
       "    </tr>\n",
       "    <tr>\n",
       "      <th>36</th>\n",
       "      <td>dzire</td>\n",
       "      <td>2015</td>\n",
       "      <td>4.65</td>\n",
       "      <td>48767</td>\n",
       "      <td>Petrol</td>\n",
       "      <td>Dealer</td>\n",
       "      <td>Manual</td>\n",
       "    </tr>\n",
       "    <tr>\n",
       "      <th>37</th>\n",
       "      <td>800</td>\n",
       "      <td>2003</td>\n",
       "      <td>0.35</td>\n",
       "      <td>127000</td>\n",
       "      <td>Petrol</td>\n",
       "      <td>Individual</td>\n",
       "      <td>Manual</td>\n",
       "    </tr>\n",
       "    <tr>\n",
       "      <th>38</th>\n",
       "      <td>alto k10</td>\n",
       "      <td>2016</td>\n",
       "      <td>3.00</td>\n",
       "      <td>10079</td>\n",
       "      <td>Petrol</td>\n",
       "      <td>Dealer</td>\n",
       "      <td>Manual</td>\n",
       "    </tr>\n",
       "    <tr>\n",
       "      <th>39</th>\n",
       "      <td>sx4</td>\n",
       "      <td>2003</td>\n",
       "      <td>2.25</td>\n",
       "      <td>62000</td>\n",
       "      <td>Petrol</td>\n",
       "      <td>Dealer</td>\n",
       "      <td>Manual</td>\n",
       "    </tr>\n",
       "  </tbody>\n",
       "</table>\n",
       "</div>"
      ],
      "text/plain": [
       "            Model  Year  Selling_Price  Kms_Driven Fuel_Type Seller_Type  \\\n",
       "0            ritz  2014           3.35       27000    Petrol      Dealer   \n",
       "1             sx4  2013           4.75       43000    Diesel      Dealer   \n",
       "2            ciaz  2017           7.25        6900    Petrol      Dealer   \n",
       "3         wagon r  2011           2.85        5200    Petrol      Dealer   \n",
       "4           swift  2014           4.60       42450    Diesel      Dealer   \n",
       "5   vitara brezza  2018           9.25        2071    Diesel      Dealer   \n",
       "6            ciaz  2015           6.75       18796    Petrol      Dealer   \n",
       "7         s cross  2015           6.50       33429    Diesel      Dealer   \n",
       "8            ciaz  2016           8.75       20273    Diesel      Dealer   \n",
       "9            ciaz  2015           7.45       42367    Diesel      Dealer   \n",
       "10       alto 800  2017           2.85        2135    Petrol      Dealer   \n",
       "11           ciaz  2015           6.85       51000    Diesel      Dealer   \n",
       "12           ciaz  2015           7.50       15000    Petrol      Dealer   \n",
       "13         ertiga  2015           6.10       26000    Petrol      Dealer   \n",
       "14          dzire  2009           2.25       77427    Petrol      Dealer   \n",
       "15         ertiga  2016           7.75       43000    Diesel      Dealer   \n",
       "16         ertiga  2015           7.25       41678    Diesel      Dealer   \n",
       "17         ertiga  2016           7.75       43000    Diesel      Dealer   \n",
       "18        wagon r  2015           3.25       35500       CNG      Dealer   \n",
       "19            sx4  2010           2.65       41442    Petrol      Dealer   \n",
       "20       alto k10  2016           2.85       25000    Petrol      Dealer   \n",
       "21          ignis  2017           4.90        2400    Petrol      Dealer   \n",
       "22            sx4  2011           4.40       50000    Petrol      Dealer   \n",
       "23       alto k10  2014           2.50       45280    Petrol      Dealer   \n",
       "24        wagon r  2013           2.90       56879    Petrol      Dealer   \n",
       "25          swift  2011           3.00       20000    Petrol      Dealer   \n",
       "26          swift  2013           4.15       55138    Petrol      Dealer   \n",
       "27          swift  2017           6.00       16200    Petrol  Individual   \n",
       "28       alto k10  2010           1.95       44542    Petrol      Dealer   \n",
       "29           ciaz  2015           7.45       45000    Diesel      Dealer   \n",
       "30           ritz  2012           3.10       51439    Diesel      Dealer   \n",
       "31           ritz  2011           2.35       54200    Petrol      Dealer   \n",
       "32          swift  2014           4.95       39000    Diesel      Dealer   \n",
       "33         ertiga  2014           6.00       45000    Diesel      Dealer   \n",
       "34          dzire  2014           5.50       45000    Diesel      Dealer   \n",
       "35            sx4  2011           2.95       49998       CNG      Dealer   \n",
       "36          dzire  2015           4.65       48767    Petrol      Dealer   \n",
       "37            800  2003           0.35      127000    Petrol  Individual   \n",
       "38       alto k10  2016           3.00       10079    Petrol      Dealer   \n",
       "39            sx4  2003           2.25       62000    Petrol      Dealer   \n",
       "\n",
       "   Transmission  \n",
       "0        Manual  \n",
       "1        Manual  \n",
       "2        Manual  \n",
       "3        Manual  \n",
       "4        Manual  \n",
       "5        Manual  \n",
       "6        Manual  \n",
       "7        Manual  \n",
       "8        Manual  \n",
       "9        Manual  \n",
       "10       Manual  \n",
       "11       Manual  \n",
       "12    Automatic  \n",
       "13       Manual  \n",
       "14       Manual  \n",
       "15       Manual  \n",
       "16       Manual  \n",
       "17       Manual  \n",
       "18       Manual  \n",
       "19       Manual  \n",
       "20       Manual  \n",
       "21       Manual  \n",
       "22    Automatic  \n",
       "23       Manual  \n",
       "24       Manual  \n",
       "25       Manual  \n",
       "26       Manual  \n",
       "27       Manual  \n",
       "28       Manual  \n",
       "29       Manual  \n",
       "30       Manual  \n",
       "31       Manual  \n",
       "32       Manual  \n",
       "33       Manual  \n",
       "34       Manual  \n",
       "35       Manual  \n",
       "36       Manual  \n",
       "37       Manual  \n",
       "38       Manual  \n",
       "39       Manual  "
      ]
     },
     "execution_count": 153,
     "metadata": {},
     "output_type": "execute_result"
    }
   ],
   "source": [
    "data.head(40)"
   ]
  },
  {
   "cell_type": "code",
   "execution_count": 154,
   "id": "a8fe5484-08d4-456d-a764-2dbc72635209",
   "metadata": {},
   "outputs": [
    {
     "data": {
      "text/html": [
       "<div>\n",
       "<style scoped>\n",
       "    .dataframe tbody tr th:only-of-type {\n",
       "        vertical-align: middle;\n",
       "    }\n",
       "\n",
       "    .dataframe tbody tr th {\n",
       "        vertical-align: top;\n",
       "    }\n",
       "\n",
       "    .dataframe thead th {\n",
       "        text-align: right;\n",
       "    }\n",
       "</style>\n",
       "<table border=\"1\" class=\"dataframe\">\n",
       "  <thead>\n",
       "    <tr style=\"text-align: right;\">\n",
       "      <th></th>\n",
       "      <th>Year</th>\n",
       "      <th>Selling_Price</th>\n",
       "      <th>Kms_Driven</th>\n",
       "    </tr>\n",
       "  </thead>\n",
       "  <tbody>\n",
       "    <tr>\n",
       "      <th>count</th>\n",
       "      <td>14828.000000</td>\n",
       "      <td>1.482800e+04</td>\n",
       "      <td>1.482800e+04</td>\n",
       "    </tr>\n",
       "    <tr>\n",
       "      <th>mean</th>\n",
       "      <td>2013.955692</td>\n",
       "      <td>7.338985e+05</td>\n",
       "      <td>6.593197e+04</td>\n",
       "    </tr>\n",
       "    <tr>\n",
       "      <th>std</th>\n",
       "      <td>4.121330</td>\n",
       "      <td>1.195352e+06</td>\n",
       "      <td>5.404873e+04</td>\n",
       "    </tr>\n",
       "    <tr>\n",
       "      <th>min</th>\n",
       "      <td>1983.000000</td>\n",
       "      <td>1.000000e-01</td>\n",
       "      <td>0.000000e+00</td>\n",
       "    </tr>\n",
       "    <tr>\n",
       "      <th>25%</th>\n",
       "      <td>2012.000000</td>\n",
       "      <td>2.500000e+05</td>\n",
       "      <td>3.200000e+04</td>\n",
       "    </tr>\n",
       "    <tr>\n",
       "      <th>50%</th>\n",
       "      <td>2015.000000</td>\n",
       "      <td>4.500000e+05</td>\n",
       "      <td>6.000000e+04</td>\n",
       "    </tr>\n",
       "    <tr>\n",
       "      <th>75%</th>\n",
       "      <td>2017.000000</td>\n",
       "      <td>7.150000e+05</td>\n",
       "      <td>9.000000e+04</td>\n",
       "    </tr>\n",
       "    <tr>\n",
       "      <th>max</th>\n",
       "      <td>2022.000000</td>\n",
       "      <td>3.500000e+07</td>\n",
       "      <td>2.360457e+06</td>\n",
       "    </tr>\n",
       "  </tbody>\n",
       "</table>\n",
       "</div>"
      ],
      "text/plain": [
       "               Year  Selling_Price    Kms_Driven\n",
       "count  14828.000000   1.482800e+04  1.482800e+04\n",
       "mean    2013.955692   7.338985e+05  6.593197e+04\n",
       "std        4.121330   1.195352e+06  5.404873e+04\n",
       "min     1983.000000   1.000000e-01  0.000000e+00\n",
       "25%     2012.000000   2.500000e+05  3.200000e+04\n",
       "50%     2015.000000   4.500000e+05  6.000000e+04\n",
       "75%     2017.000000   7.150000e+05  9.000000e+04\n",
       "max     2022.000000   3.500000e+07  2.360457e+06"
      ]
     },
     "execution_count": 154,
     "metadata": {},
     "output_type": "execute_result"
    }
   ],
   "source": [
    "data.describe()"
   ]
  },
  {
   "cell_type": "code",
   "execution_count": 158,
   "id": "12acd4c7-0913-46db-8273-3c95610a8d38",
   "metadata": {},
   "outputs": [
    {
     "data": {
      "image/png": "[encoded data removed]",
      "text/plain": [
       "<Figure size 640x480 with 1 Axes>"
      ]
     },
     "metadata": {},
     "output_type": "display_data"
    }
   ],
   "source": [
    "#Graficos de barras Precio de venta Vs años\n",
    "\n",
    "plt.bar(data['Year'], data['Selling_Price'])\n",
    "plt.title('Precios de Venta Vs Años')\n",
    "plt.show()\n"
   ]
  },
  {
   "cell_type": "code",
   "execution_count": 159,
   "id": "b159aebd-83ca-4538-a7fd-38c65048eeba",
   "metadata": {},
   "outputs": [
    {
     "data": {
      "image/png": "[encoded data removed]",
      "text/plain": [
       "<Figure size 1000x300 with 1 Axes>"
      ]
     },
     "metadata": {},
     "output_type": "display_data"
    }
   ],
   "source": [
    "# Grafico histograma Tipo de Combustible\n",
    "\n",
    "plt.figure(figsize=(10,3))\n",
    "plt.hist(data['Fuel_Type'])\n",
    "plt.title('Tipo de Combustible')\n",
    "plt.show()"
   ]
  },
  {
   "cell_type": "code",
   "execution_count": 160,
   "id": "f03b8a1e-d87f-4546-8224-777350598bda",
   "metadata": {},
   "outputs": [
    {
     "data": {
      "image/png": "[encoded data removed]",
      "text/plain": [
       "<Figure size 640x480 with 1 Axes>"
      ]
     },
     "metadata": {},
     "output_type": "display_data"
    }
   ],
   "source": [
    "# Grafico aspersion Tipo de vendedor Vs años\n",
    "\n",
    "plt.scatter(data['Year'], data['Seller_Type'])\n",
    "plt.title('Tipo de vendedor Vs años')\n",
    "plt.show()"
   ]
  },
  {
   "cell_type": "code",
   "execution_count": 161,
   "id": "58ea620a-bb14-43ef-8850-d21267400d78",
   "metadata": {},
   "outputs": [
    {
     "data": {
      "text/plain": [
       "Text(0.5, 1.0, 'Precio de Venta')"
      ]
     },
     "execution_count": 161,
     "metadata": {},
     "output_type": "execute_result"
    },
    {
     "data": {
      "image/png": "[encoded data removed]",
      "text/plain": [
       "<Figure size 600x300 with 1 Axes>"
      ]
     },
     "metadata": {},
     "output_type": "display_data"
    }
   ],
   "source": [
    "#Grafico de los datos \n",
    "\n",
    "plt.figure(figsize=(6,3))\n",
    "sns.boxplot(x=data['Selling_Price'])\n",
    "plt.title('Precio de Venta')"
   ]
  },
  {
   "cell_type": "code",
   "execution_count": 162,
   "id": "a9c7f7d9-c47d-45a8-ab58-f9c9288ee1f8",
   "metadata": {},
   "outputs": [
    {
     "name": "stdout",
     "output_type": "stream",
     "text": [
      "<class 'pandas.core.frame.DataFrame'>\n",
      "RangeIndex: 14828 entries, 0 to 14827\n",
      "Data columns (total 7 columns):\n",
      " #   Column         Non-Null Count  Dtype  \n",
      "---  ------         --------------  -----  \n",
      " 0   Model          14828 non-null  object \n",
      " 1   Year           14828 non-null  int64  \n",
      " 2   Selling_Price  14828 non-null  float64\n",
      " 3   Kms_Driven     14828 non-null  int64  \n",
      " 4   Fuel_Type      14828 non-null  object \n",
      " 5   Seller_Type    14828 non-null  object \n",
      " 6   Transmission   14828 non-null  object \n",
      "dtypes: float64(1), int64(2), object(4)\n",
      "memory usage: 811.0+ KB\n"
     ]
    }
   ],
   "source": [
    "data.info()"
   ]
  },
  {
   "cell_type": "markdown",
   "id": "8ab65a4d-767c-4c5f-9c7a-799a8f017c91",
   "metadata": {},
   "source": [
    "# 2. Preprocesar los datos limpiándolos, tratando valores faltantes y transformándolos según sea necesario"
   ]
  },
  {
   "cell_type": "code",
   "execution_count": 164,
   "id": "d81501f2-7a0c-418a-a6db-291fc3c66b75",
   "metadata": {},
   "outputs": [
    {
     "name": "stdout",
     "output_type": "stream",
     "text": [
      "Cantidad de Registros con cero en Model:  0\n",
      "Cantidad de Registros con cero en Year:  0\n",
      "Cantidad de Registros con cero en Selling_Price:  0\n",
      "Cantidad de Registros con cero en Kms_Driven:  1\n",
      "Cantidad de Registros con cero en Fuel_Type:  0\n",
      "Cantidad de Registros con cero en Seller_Type:  0\n",
      "Cantidad de Registros con cero en Transmission:  0\n"
     ]
    }
   ],
   "source": [
    "#Revisión de datos faltantes\n",
    "\n",
    "print(\"Cantidad de Registros con cero en Model: \",data['Model'].isin([0]).sum())\n",
    "print(\"Cantidad de Registros con cero en Year: \",data['Year'].isin([0]).sum())\n",
    "print(\"Cantidad de Registros con cero en Selling_Price: \",data['Selling_Price'].isin([0]).sum())\n",
    "print(\"Cantidad de Registros con cero en Kms_Driven: \",data['Kms_Driven'].isin([0]).sum())\n",
    "print(\"Cantidad de Registros con cero en Fuel_Type: \",data['Fuel_Type'].isin([0]).sum())\n",
    "print(\"Cantidad de Registros con cero en Seller_Type: \",data['Seller_Type'].isin([0]).sum())\n",
    "print(\"Cantidad de Registros con cero en Transmission: \",data['Transmission'].isin([0]).sum())\n"
   ]
  },
  {
   "cell_type": "code",
   "execution_count": 165,
   "id": "b1f08ade-1855-4bd9-8e09-27aabef2b590",
   "metadata": {},
   "outputs": [],
   "source": [
    "# Reemplazar todos los ceros con el valor medio (promedio) de la columna.\n",
    "\n",
    "data['Kms_Driven']=data['Kms_Driven'].replace(0,data['Kms_Driven'].mean())\n"
   ]
  },
  {
   "cell_type": "code",
   "execution_count": 166,
   "id": "790fd46c-7287-4503-9177-26b50009d4a9",
   "metadata": {},
   "outputs": [
    {
     "name": "stdout",
     "output_type": "stream",
     "text": [
      "Cantidad de Registros con cero en Kms_Driven:  0\n"
     ]
    }
   ],
   "source": [
    "#Revisión nuevamente de datos faltantes\n",
    "\n",
    "print(\"Cantidad de Registros con cero en Kms_Driven: \",data['Kms_Driven'].isin([0]).sum())"
   ]
  },
  {
   "cell_type": "markdown",
   "id": "50189a14-d8f4-47aa-b4d9-58c4c7319094",
   "metadata": {},
   "source": [
    "# 3.Seleccionar las características más relevantes para entrenar el modelo utilizando selección de características"
   ]
  },
  {
   "cell_type": "code",
   "execution_count": 168,
   "id": "becd63ac-fa3c-41d3-9fd6-750698efad04",
   "metadata": {},
   "outputs": [],
   "source": [
    " #1   Year           14828 non-null  int64  \n",
    " #2   Selling_Price  14828 non-null  float64"
   ]
  },
  {
   "cell_type": "markdown",
   "id": "9c52fd1e-0796-42b1-8d8e-19d2dc1fc339",
   "metadata": {},
   "source": [
    "# 4. Dividir el dataset en Train y Test para evaluar correctamente el modelo"
   ]
  },
  {
   "cell_type": "code",
   "execution_count": 170,
   "id": "9f3aaf35-aee9-42db-ab93-0dd16f76d918",
   "metadata": {},
   "outputs": [],
   "source": [
    "# Porcentaje de datos para el train 80%, para el text 20%\n",
    "\n",
    "#X= data.drop(columns='Selling_Price', axis=1)\n",
    "#Y= data['Selling_Price']\n",
    "\n",
    "X=df['Selling_Price'].values\n",
    "Y=df['Selling_Price'].values\n",
    "\n",
    "X=X.reshape(-1,1)\n",
    "\n",
    "X_train, X_test, Y_train, Y_test = train_test_split(X, Y, test_size=0.2)\n",
    "\n",
    "#X_train, X_test, Y_train, Y_test = train_test_split(X,Y, test_size= 0.2, random_state =0)\n",
    "\n"
   ]
  },
  {
   "cell_type": "code",
   "execution_count": 171,
   "id": "c7ded7f5-4af0-448c-93d2-d79de9167441",
   "metadata": {},
   "outputs": [
    {
     "name": "stdout",
     "output_type": "stream",
     "text": [
      "[[8900000.]\n",
      " [ 100000.]\n",
      " [ 145000.]\n",
      " ...\n",
      " [ 600000.]\n",
      " [ 480000.]\n",
      " [  64000.]]\n"
     ]
    }
   ],
   "source": [
    "print (X_train)"
   ]
  },
  {
   "cell_type": "code",
   "execution_count": 172,
   "id": "4372cf84-10f0-495c-be34-7e792e974add",
   "metadata": {},
   "outputs": [
    {
     "name": "stdout",
     "output_type": "stream",
     "text": [
      "[8900000.  100000.  145000. ...  600000.  480000.   64000.]\n"
     ]
    }
   ],
   "source": [
    "print (Y_train)"
   ]
  },
  {
   "cell_type": "markdown",
   "id": "6d7d1b1f-3377-4dd1-95f1-0d36ee2695ee",
   "metadata": {},
   "source": [
    "# 5. Entrenar el modelo configurando los diferentes hiperparámetros"
   ]
  },
  {
   "cell_type": "code",
   "execution_count": 174,
   "id": "6a431db2-6e83-41ba-ab7f-298d5ce98448",
   "metadata": {},
   "outputs": [
    {
     "name": "stdout",
     "output_type": "stream",
     "text": [
      "Intercepto (β0):-211587421.91621774\n",
      "Coeficiente (Year,β1):[105425.0206574]\n"
     ]
    },
    {
     "data": {
      "image/png": "[encoded data removed]",
      "text/plain": [
       "<Figure size 640x480 with 1 Axes>"
      ]
     },
     "metadata": {},
     "output_type": "display_data"
    }
   ],
   "source": [
    "df= pd.DataFrame(data)\n",
    "\n",
    "#VAriables independiente e dependiente\n",
    "X= df[['Year']]\n",
    "Y= df['Selling_Price']\n",
    "\n",
    "#Regression Lineal\n",
    "modelo= LinearRegression()\n",
    "\n",
    "#Datos al modelo\n",
    "modelo.fit(X,Y)\n",
    "\n",
    "#Coeficiente de regresion\n",
    "beta_0 = modelo.intercept_ \n",
    "beta_1= modelo.coef_\n",
    "\n",
    "#Coeficientes\n",
    "print(f\"Intercepto (β0):{beta_0}\")\n",
    "print(f\"Coeficiente (Year,β1):{beta_1}\")\n",
    "\n",
    "#Visualizar regresion simple\n",
    "plt.scatter(df['Year'],Y, color=\"blue\", label='Datos Reales')\n",
    "plt.plot(df['Year'], modelo.predict(X), color='red', label ='Linea de Regresion')\n",
    "plt.xlabel('Years')\n",
    "plt.ylabel('Precio')\n",
    "plt.legend()\n",
    "plt.show()"
   ]
  },
  {
   "cell_type": "code",
   "execution_count": 175,
   "id": "9b2d63f5-2096-410a-907a-de426c0a1194",
   "metadata": {},
   "outputs": [
    {
     "name": "stdout",
     "output_type": "stream",
     "text": [
      "\n",
      "Prediccion:\n",
      "Prediccion 1 para (Año: 2025): 1898244.92\n",
      "Prediccion 2 para (Año: 2026): 2003669.94\n"
     ]
    },
    {
     "name": "stderr",
     "output_type": "stream",
     "text": [
      "C:\\Users\\User\\anaconda3\\Lib\\site-packages\\sklearn\\base.py:493: UserWarning: X does not have valid feature names, but LinearRegression was fitted with feature names\n",
      "  warnings.warn(\n"
     ]
    }
   ],
   "source": [
    "#Predecir precios para proximos años\n",
    "nuevo_X = np.array ([[2025],[2026]]) # Nuevos valor \n",
    "prediccion= modelo.predict(nuevo_X)\n",
    "\n",
    "#Visualizar\n",
    "print (\"\\nPrediccion:\")\n",
    "for i, pred in enumerate(prediccion):\n",
    "    print(f\"Prediccion {i+1} para (Año: {nuevo_X[i][0]}): {pred:.2f}\")\n",
    "          \n"
   ]
  },
  {
   "cell_type": "code",
   "execution_count": 176,
   "id": "4d790c50-af1e-4968-9c33-32c204723f29",
   "metadata": {},
   "outputs": [],
   "source": [
    "#Regresion lineal Multiple\n",
    "\n"
   ]
  },
  {
   "cell_type": "code",
   "execution_count": 178,
   "id": "3911a831-e34a-4762-b532-90001bc021aa",
   "metadata": {},
   "outputs": [
    {
     "data": {
      "image/png": "[encoded data removed]",
      "text/plain": [
       "<Figure size 640x480 with 1 Axes>"
      ]
     },
     "metadata": {},
     "output_type": "display_data"
    }
   ],
   "source": [
    "df= pd.DataFrame(data)\n",
    "\n",
    "#VAriables dependiente e independiente\n",
    "X= df[['Year','Kms_Driven']]\n",
    "Y= df['Selling_Price']\n",
    "\n",
    "#Regression Lineal\n",
    "modelo= LinearRegression()\n",
    "\n",
    "#Datos al modelo ajustar\n",
    "modelo.fit(X,Y)\n",
    "\n",
    "#Coeficiente de regresion\n",
    "beta_0 = modelo.intercept_ \n",
    "beta_1, beta_2 = modelo.coef_\n",
    "\n",
    "#Visualizar regresion simple\n",
    "plt.scatter(df['Year'],Y, color=\"blue\", label='Datos Reales')\n",
    "plt.plot(df['Year'], modelo.predict(X), color='red', label ='Linea de Regresion')\n",
    "plt.title('Regresion Lineal: Precio Vs Años')\n",
    "plt.xlabel('Years')\n",
    "plt.ylabel('Precio')\n",
    "plt.legend()\n",
    "plt.show()\n",
    "\n",
    "\n",
    "\n"
   ]
  },
  {
   "cell_type": "markdown",
   "id": "dc4c4f58-18dc-439f-ab71-1a27557675a0",
   "metadata": {},
   "source": [
    "# 6. Evaluar el desempeño del modelo en el conjunto de Test con métricas"
   ]
  },
  {
   "cell_type": "code",
   "execution_count": 180,
   "id": "246e2958-9059-4ee6-a9d8-eeeee924ec2f",
   "metadata": {},
   "outputs": [
    {
     "name": "stdout",
     "output_type": "stream",
     "text": [
      "Intercepto (β0):-203111084.20959198\n",
      "Coeficiente (Year,β1):101242.10454776592\n",
      "Coeficiente (Kms_Driven,β2):-0.7906101270097899\n",
      "R^2 (Coeficiente de determinacion):0.13319035577725846\n",
      "Error Absoluto Medio (MAE):537584.0104776424\n"
     ]
    }
   ],
   "source": [
    "2#Predicciones\n",
    "\n",
    "df= pd.DataFrame(data)\n",
    "\n",
    "#VAriables dependiente e independiente\n",
    "X= df[['Year','Kms_Driven']]\n",
    "y= df['Selling_Price']\n",
    "\n",
    "#Regression Lineal\n",
    "model= LinearRegression()\n",
    "\n",
    "#Datos al modelo\n",
    "model.fit(X,y)\n",
    "\n",
    "#Predicciones con los datos del modelo\n",
    "predicciones = model.predict(X)\n",
    "\n",
    "#Coeficientes\n",
    "print(f\"Intercepto (β0):{beta_0}\")\n",
    "print(f\"Coeficiente (Year,β1):{beta_1}\")\n",
    "print(f\"Coeficiente (Kms_Driven,β2):{beta_2}\")\n",
    "\n",
    "#Calcular Metricas \n",
    "r2 = r2_score(y, predicciones) # coeficiente determinacion R^2\n",
    "mae = mean_absolute_error(y, predicciones) # error absoluto medio\n",
    "mse = mean_squared_error(y, predicciones) # error cuadratico medio\n",
    "rmse = np.sqrt(mse) # raiz del error cuadratico medio\n",
    "\n",
    "#Visualizar las metricas\n",
    "print(f'R^2 (Coeficiente de determinacion):{r2}')\n",
    "print(f'Error Absoluto Medio (MAE):{mae}')\n"
   ]
  },
  {
   "cell_type": "code",
   "execution_count": 233,
   "id": "6a3f9083-790b-4d9c-9d3d-3368f8fb05fc",
   "metadata": {},
   "outputs": [
    {
     "data": {
      "image/png": "[encoded data removed]",
      "text/plain": [
       "<Figure size 1000x300 with 1 Axes>"
      ]
     },
     "metadata": {},
     "output_type": "display_data"
    }
   ],
   "source": [
    "plt.figure(figsize=(10,3))\n",
    "plt.hist(df['Year'])\n",
    "plt.title('Precio Venta')\n",
    "plt.show()"
   ]
  }
 ],
 "metadata": {
  "kernelspec": {
   "display_name": "Python 3 (ipykernel)",
   "language": "python",
   "name": "python3"
  },
  "language_info": {
   "codemirror_mode": {
    "name": "ipython",
    "version": 3
   },
   "file_extension": ".py",
   "mimetype": "text/x-python",
   "name": "python",
   "nbconvert_exporter": "python",
   "pygments_lexer": "ipython3",
   "version": "3.12.4"
  }
 },
 "nbformat": 4,
 "nbformat_minor": 5
}
